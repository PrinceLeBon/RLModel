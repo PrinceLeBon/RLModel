{
  "nbformat": 4,
  "nbformat_minor": 0,
  "metadata": {
    "colab": {
      "provenance": [],
      "authorship_tag": "ABX9TyN9t1nJOPI7FyNG4DRVVhBI",
      "include_colab_link": true
    },
    "kernelspec": {
      "name": "python3",
      "display_name": "Python 3"
    },
    "language_info": {
      "name": "python"
    }
  },
  "cells": [
    {
      "cell_type": "markdown",
      "metadata": {
        "id": "view-in-github",
        "colab_type": "text"
      },
      "source": [
        "<a href=\"https://colab.research.google.com/github/PrinceLeBon/RLModel/blob/main/RLModel.ipynb\" target=\"_parent\"><img src=\"https://colab.research.google.com/assets/colab-badge.svg\" alt=\"Open In Colab\"/></a>"
      ]
    },
    {
      "cell_type": "code",
      "execution_count": 428,
      "metadata": {
        "id": "nW6ZtDuUK2BW"
      },
      "outputs": [],
      "source": [
        "# @title Install & import dependencies\n",
        "!pip install tensorflow-gpu==2.11.0 tensorflow==2.11.0 stable-baselines3 gym-anytrading gym shimmy>=0.2.1"
      ]
    },
    {
      "cell_type": "code",
      "source": [
        "# Gym elements\n",
        "import gym\n",
        "import gym_anytrading\n",
        "\n",
        "# stable baselines\n",
        "from stable_baselines3.common.vec_env import DummyVecEnv\n",
        "from stable_baselines3 import A2C\n",
        "from stable_baselines3.common.env_util import make_vec_env\n",
        "import torch as th\n",
        "\n",
        "#Processing Library\n",
        "import numpy as np\n",
        "import pandas as pd\n",
        "from matplotlib import pyplot as plt"
      ],
      "metadata": {
        "id": "BWXvgB1jMH9y"
      },
      "execution_count": 429,
      "outputs": []
    },
    {
      "cell_type": "code",
      "source": [
        "# read dataset\n",
        "df = pd.read_csv(\"data/gme.csv\")\n",
        "df.head()"
      ],
      "metadata": {
        "colab": {
          "base_uri": "https://localhost:8080/",
          "height": 206
        },
        "id": "llhilNmXtnBU",
        "outputId": "088e087c-35c5-45b8-b65b-e4ddd3b2a5e2"
      },
      "execution_count": 430,
      "outputs": [
        {
          "output_type": "execute_result",
          "data": {
            "text/plain": [
              "         Date   Open   High    Low  Close     Volume\n",
              "0  07/21/2023  23.05  23.22  22.16  22.18  3,167,916\n",
              "1  07/20/2023  23.01  23.22  22.66  22.91  2,256,659\n",
              "2  07/19/2023  23.42  23.58  22.96  23.17  2,250,133\n",
              "3  07/18/2023  22.72  23.80  22.68  23.08  2,345,137\n",
              "4  07/17/2023  22.88  23.31  22.70  22.82  2,033,970"
            ],
            "text/html": [
              "\n",
              "\n",
              "  <div id=\"df-7ad6e008-dc33-47ad-ba3e-a7ffc7582100\">\n",
              "    <div class=\"colab-df-container\">\n",
              "      <div>\n",
              "<style scoped>\n",
              "    .dataframe tbody tr th:only-of-type {\n",
              "        vertical-align: middle;\n",
              "    }\n",
              "\n",
              "    .dataframe tbody tr th {\n",
              "        vertical-align: top;\n",
              "    }\n",
              "\n",
              "    .dataframe thead th {\n",
              "        text-align: right;\n",
              "    }\n",
              "</style>\n",
              "<table border=\"1\" class=\"dataframe\">\n",
              "  <thead>\n",
              "    <tr style=\"text-align: right;\">\n",
              "      <th></th>\n",
              "      <th>Date</th>\n",
              "      <th>Open</th>\n",
              "      <th>High</th>\n",
              "      <th>Low</th>\n",
              "      <th>Close</th>\n",
              "      <th>Volume</th>\n",
              "    </tr>\n",
              "  </thead>\n",
              "  <tbody>\n",
              "    <tr>\n",
              "      <th>0</th>\n",
              "      <td>07/21/2023</td>\n",
              "      <td>23.05</td>\n",
              "      <td>23.22</td>\n",
              "      <td>22.16</td>\n",
              "      <td>22.18</td>\n",
              "      <td>3,167,916</td>\n",
              "    </tr>\n",
              "    <tr>\n",
              "      <th>1</th>\n",
              "      <td>07/20/2023</td>\n",
              "      <td>23.01</td>\n",
              "      <td>23.22</td>\n",
              "      <td>22.66</td>\n",
              "      <td>22.91</td>\n",
              "      <td>2,256,659</td>\n",
              "    </tr>\n",
              "    <tr>\n",
              "      <th>2</th>\n",
              "      <td>07/19/2023</td>\n",
              "      <td>23.42</td>\n",
              "      <td>23.58</td>\n",
              "      <td>22.96</td>\n",
              "      <td>23.17</td>\n",
              "      <td>2,250,133</td>\n",
              "    </tr>\n",
              "    <tr>\n",
              "      <th>3</th>\n",
              "      <td>07/18/2023</td>\n",
              "      <td>22.72</td>\n",
              "      <td>23.80</td>\n",
              "      <td>22.68</td>\n",
              "      <td>23.08</td>\n",
              "      <td>2,345,137</td>\n",
              "    </tr>\n",
              "    <tr>\n",
              "      <th>4</th>\n",
              "      <td>07/17/2023</td>\n",
              "      <td>22.88</td>\n",
              "      <td>23.31</td>\n",
              "      <td>22.70</td>\n",
              "      <td>22.82</td>\n",
              "      <td>2,033,970</td>\n",
              "    </tr>\n",
              "  </tbody>\n",
              "</table>\n",
              "</div>\n",
              "      <button class=\"colab-df-convert\" onclick=\"convertToInteractive('df-7ad6e008-dc33-47ad-ba3e-a7ffc7582100')\"\n",
              "              title=\"Convert this dataframe to an interactive table.\"\n",
              "              style=\"display:none;\">\n",
              "\n",
              "  <svg xmlns=\"http://www.w3.org/2000/svg\" height=\"24px\"viewBox=\"0 0 24 24\"\n",
              "       width=\"24px\">\n",
              "    <path d=\"M0 0h24v24H0V0z\" fill=\"none\"/>\n",
              "    <path d=\"M18.56 5.44l.94 2.06.94-2.06 2.06-.94-2.06-.94-.94-2.06-.94 2.06-2.06.94zm-11 1L8.5 8.5l.94-2.06 2.06-.94-2.06-.94L8.5 2.5l-.94 2.06-2.06.94zm10 10l.94 2.06.94-2.06 2.06-.94-2.06-.94-.94-2.06-.94 2.06-2.06.94z\"/><path d=\"M17.41 7.96l-1.37-1.37c-.4-.4-.92-.59-1.43-.59-.52 0-1.04.2-1.43.59L10.3 9.45l-7.72 7.72c-.78.78-.78 2.05 0 2.83L4 21.41c.39.39.9.59 1.41.59.51 0 1.02-.2 1.41-.59l7.78-7.78 2.81-2.81c.8-.78.8-2.07 0-2.86zM5.41 20L4 18.59l7.72-7.72 1.47 1.35L5.41 20z\"/>\n",
              "  </svg>\n",
              "      </button>\n",
              "\n",
              "\n",
              "\n",
              "    <div id=\"df-97d36bdd-611e-465c-97d6-73f8ac4194f0\">\n",
              "      <button class=\"colab-df-quickchart\" onclick=\"quickchart('df-97d36bdd-611e-465c-97d6-73f8ac4194f0')\"\n",
              "              title=\"Suggest charts.\"\n",
              "              style=\"display:none;\">\n",
              "\n",
              "<svg xmlns=\"http://www.w3.org/2000/svg\" height=\"24px\"viewBox=\"0 0 24 24\"\n",
              "     width=\"24px\">\n",
              "    <g>\n",
              "        <path d=\"M19 3H5c-1.1 0-2 .9-2 2v14c0 1.1.9 2 2 2h14c1.1 0 2-.9 2-2V5c0-1.1-.9-2-2-2zM9 17H7v-7h2v7zm4 0h-2V7h2v10zm4 0h-2v-4h2v4z\"/>\n",
              "    </g>\n",
              "</svg>\n",
              "      </button>\n",
              "    </div>\n",
              "\n",
              "<style>\n",
              "  .colab-df-quickchart {\n",
              "    background-color: #E8F0FE;\n",
              "    border: none;\n",
              "    border-radius: 50%;\n",
              "    cursor: pointer;\n",
              "    display: none;\n",
              "    fill: #1967D2;\n",
              "    height: 32px;\n",
              "    padding: 0 0 0 0;\n",
              "    width: 32px;\n",
              "  }\n",
              "\n",
              "  .colab-df-quickchart:hover {\n",
              "    background-color: #E2EBFA;\n",
              "    box-shadow: 0px 1px 2px rgba(60, 64, 67, 0.3), 0px 1px 3px 1px rgba(60, 64, 67, 0.15);\n",
              "    fill: #174EA6;\n",
              "  }\n",
              "\n",
              "  [theme=dark] .colab-df-quickchart {\n",
              "    background-color: #3B4455;\n",
              "    fill: #D2E3FC;\n",
              "  }\n",
              "\n",
              "  [theme=dark] .colab-df-quickchart:hover {\n",
              "    background-color: #434B5C;\n",
              "    box-shadow: 0px 1px 3px 1px rgba(0, 0, 0, 0.15);\n",
              "    filter: drop-shadow(0px 1px 2px rgba(0, 0, 0, 0.3));\n",
              "    fill: #FFFFFF;\n",
              "  }\n",
              "</style>\n",
              "\n",
              "    <script>\n",
              "      async function quickchart(key) {\n",
              "        const containerElement = document.querySelector('#' + key);\n",
              "        const charts = await google.colab.kernel.invokeFunction(\n",
              "            'suggestCharts', [key], {});\n",
              "      }\n",
              "    </script>\n",
              "\n",
              "      <script>\n",
              "\n",
              "function displayQuickchartButton(domScope) {\n",
              "  let quickchartButtonEl =\n",
              "    domScope.querySelector('#df-97d36bdd-611e-465c-97d6-73f8ac4194f0 button.colab-df-quickchart');\n",
              "  quickchartButtonEl.style.display =\n",
              "    google.colab.kernel.accessAllowed ? 'block' : 'none';\n",
              "}\n",
              "\n",
              "        displayQuickchartButton(document);\n",
              "      </script>\n",
              "      <style>\n",
              "    .colab-df-container {\n",
              "      display:flex;\n",
              "      flex-wrap:wrap;\n",
              "      gap: 12px;\n",
              "    }\n",
              "\n",
              "    .colab-df-convert {\n",
              "      background-color: #E8F0FE;\n",
              "      border: none;\n",
              "      border-radius: 50%;\n",
              "      cursor: pointer;\n",
              "      display: none;\n",
              "      fill: #1967D2;\n",
              "      height: 32px;\n",
              "      padding: 0 0 0 0;\n",
              "      width: 32px;\n",
              "    }\n",
              "\n",
              "    .colab-df-convert:hover {\n",
              "      background-color: #E2EBFA;\n",
              "      box-shadow: 0px 1px 2px rgba(60, 64, 67, 0.3), 0px 1px 3px 1px rgba(60, 64, 67, 0.15);\n",
              "      fill: #174EA6;\n",
              "    }\n",
              "\n",
              "    [theme=dark] .colab-df-convert {\n",
              "      background-color: #3B4455;\n",
              "      fill: #D2E3FC;\n",
              "    }\n",
              "\n",
              "    [theme=dark] .colab-df-convert:hover {\n",
              "      background-color: #434B5C;\n",
              "      box-shadow: 0px 1px 3px 1px rgba(0, 0, 0, 0.15);\n",
              "      filter: drop-shadow(0px 1px 2px rgba(0, 0, 0, 0.3));\n",
              "      fill: #FFFFFF;\n",
              "    }\n",
              "  </style>\n",
              "\n",
              "      <script>\n",
              "        const buttonEl =\n",
              "          document.querySelector('#df-7ad6e008-dc33-47ad-ba3e-a7ffc7582100 button.colab-df-convert');\n",
              "        buttonEl.style.display =\n",
              "          google.colab.kernel.accessAllowed ? 'block' : 'none';\n",
              "\n",
              "        async function convertToInteractive(key) {\n",
              "          const element = document.querySelector('#df-7ad6e008-dc33-47ad-ba3e-a7ffc7582100');\n",
              "          const dataTable =\n",
              "            await google.colab.kernel.invokeFunction('convertToInteractive',\n",
              "                                                     [key], {});\n",
              "          if (!dataTable) return;\n",
              "\n",
              "          const docLinkHtml = 'Like what you see? Visit the ' +\n",
              "            '<a target=\"_blank\" href=https://colab.research.google.com/notebooks/data_table.ipynb>data table notebook</a>'\n",
              "            + ' to learn more about interactive tables.';\n",
              "          element.innerHTML = '';\n",
              "          dataTable['output_type'] = 'display_data';\n",
              "          await google.colab.output.renderOutput(dataTable, element);\n",
              "          const docLink = document.createElement('div');\n",
              "          docLink.innerHTML = docLinkHtml;\n",
              "          element.appendChild(docLink);\n",
              "        }\n",
              "      </script>\n",
              "    </div>\n",
              "  </div>\n"
            ]
          },
          "metadata": {},
          "execution_count": 430
        }
      ]
    },
    {
      "cell_type": "code",
      "source": [
        "df.dtypes"
      ],
      "metadata": {
        "id": "uy-3GmnZxfFV",
        "colab": {
          "base_uri": "https://localhost:8080/"
        },
        "outputId": "f549e891-097d-4497-b904-4acbcac2607f"
      },
      "execution_count": 431,
      "outputs": [
        {
          "output_type": "stream",
          "name": "stderr",
          "text": [
            "/usr/local/lib/python3.10/dist-packages/ipykernel/ipkernel.py:283: DeprecationWarning: `should_run_async` will not call `transform_cell` automatically in the future. Please pass the result to `transformed_cell` argument and any exception that happen during thetransform in `preprocessing_exc_tuple` in IPython 7.17 and above.\n",
            "  and should_run_async(code)\n"
          ]
        },
        {
          "output_type": "execute_result",
          "data": {
            "text/plain": [
              "Date       object\n",
              "Open      float64\n",
              "High      float64\n",
              "Low       float64\n",
              "Close     float64\n",
              "Volume     object\n",
              "dtype: object"
            ]
          },
          "metadata": {},
          "execution_count": 431
        }
      ]
    },
    {
      "cell_type": "code",
      "source": [
        "df['Date'] = pd.to_datetime(df['Date'])\n",
        "df.dtypes"
      ],
      "metadata": {
        "id": "Ysn8LEY3xqrw",
        "colab": {
          "base_uri": "https://localhost:8080/"
        },
        "outputId": "d92742d4-a13b-4380-c43d-705107e999ca"
      },
      "execution_count": 432,
      "outputs": [
        {
          "output_type": "execute_result",
          "data": {
            "text/plain": [
              "Date      datetime64[ns]\n",
              "Open             float64\n",
              "High             float64\n",
              "Low              float64\n",
              "Close            float64\n",
              "Volume            object\n",
              "dtype: object"
            ]
          },
          "metadata": {},
          "execution_count": 432
        }
      ]
    },
    {
      "cell_type": "code",
      "source": [
        "df.set_index('Date', inplace=True)\n",
        "df = df.sort_index()\n",
        "df.head()"
      ],
      "metadata": {
        "id": "PtsN1_K2x4ck",
        "colab": {
          "base_uri": "https://localhost:8080/",
          "height": 292
        },
        "outputId": "a7cc4192-c593-4d6b-b7c1-1117e6d3e4c5"
      },
      "execution_count": 433,
      "outputs": [
        {
          "output_type": "stream",
          "name": "stderr",
          "text": [
            "/usr/local/lib/python3.10/dist-packages/ipykernel/ipkernel.py:283: DeprecationWarning: `should_run_async` will not call `transform_cell` automatically in the future. Please pass the result to `transformed_cell` argument and any exception that happen during thetransform in `preprocessing_exc_tuple` in IPython 7.17 and above.\n",
            "  and should_run_async(code)\n"
          ]
        },
        {
          "output_type": "execute_result",
          "data": {
            "text/plain": [
              "             Open   High    Low  Close      Volume\n",
              "Date                                              \n",
              "2022-07-21  39.93  40.00  37.29  38.37   9,277,796\n",
              "2022-07-22  36.88  38.70  34.93  35.78  10,060,250\n",
              "2022-07-25  35.00  35.51  33.25  33.98   5,686,259\n",
              "2022-07-26  32.87  33.31  32.10  32.43   4,866,070\n",
              "2022-07-27  32.96  34.12  32.16  33.78   4,251,215"
            ],
            "text/html": [
              "\n",
              "\n",
              "  <div id=\"df-9afbea3d-a43e-4869-81ad-8b70fb0664f2\">\n",
              "    <div class=\"colab-df-container\">\n",
              "      <div>\n",
              "<style scoped>\n",
              "    .dataframe tbody tr th:only-of-type {\n",
              "        vertical-align: middle;\n",
              "    }\n",
              "\n",
              "    .dataframe tbody tr th {\n",
              "        vertical-align: top;\n",
              "    }\n",
              "\n",
              "    .dataframe thead th {\n",
              "        text-align: right;\n",
              "    }\n",
              "</style>\n",
              "<table border=\"1\" class=\"dataframe\">\n",
              "  <thead>\n",
              "    <tr style=\"text-align: right;\">\n",
              "      <th></th>\n",
              "      <th>Open</th>\n",
              "      <th>High</th>\n",
              "      <th>Low</th>\n",
              "      <th>Close</th>\n",
              "      <th>Volume</th>\n",
              "    </tr>\n",
              "    <tr>\n",
              "      <th>Date</th>\n",
              "      <th></th>\n",
              "      <th></th>\n",
              "      <th></th>\n",
              "      <th></th>\n",
              "      <th></th>\n",
              "    </tr>\n",
              "  </thead>\n",
              "  <tbody>\n",
              "    <tr>\n",
              "      <th>2022-07-21</th>\n",
              "      <td>39.93</td>\n",
              "      <td>40.00</td>\n",
              "      <td>37.29</td>\n",
              "      <td>38.37</td>\n",
              "      <td>9,277,796</td>\n",
              "    </tr>\n",
              "    <tr>\n",
              "      <th>2022-07-22</th>\n",
              "      <td>36.88</td>\n",
              "      <td>38.70</td>\n",
              "      <td>34.93</td>\n",
              "      <td>35.78</td>\n",
              "      <td>10,060,250</td>\n",
              "    </tr>\n",
              "    <tr>\n",
              "      <th>2022-07-25</th>\n",
              "      <td>35.00</td>\n",
              "      <td>35.51</td>\n",
              "      <td>33.25</td>\n",
              "      <td>33.98</td>\n",
              "      <td>5,686,259</td>\n",
              "    </tr>\n",
              "    <tr>\n",
              "      <th>2022-07-26</th>\n",
              "      <td>32.87</td>\n",
              "      <td>33.31</td>\n",
              "      <td>32.10</td>\n",
              "      <td>32.43</td>\n",
              "      <td>4,866,070</td>\n",
              "    </tr>\n",
              "    <tr>\n",
              "      <th>2022-07-27</th>\n",
              "      <td>32.96</td>\n",
              "      <td>34.12</td>\n",
              "      <td>32.16</td>\n",
              "      <td>33.78</td>\n",
              "      <td>4,251,215</td>\n",
              "    </tr>\n",
              "  </tbody>\n",
              "</table>\n",
              "</div>\n",
              "      <button class=\"colab-df-convert\" onclick=\"convertToInteractive('df-9afbea3d-a43e-4869-81ad-8b70fb0664f2')\"\n",
              "              title=\"Convert this dataframe to an interactive table.\"\n",
              "              style=\"display:none;\">\n",
              "\n",
              "  <svg xmlns=\"http://www.w3.org/2000/svg\" height=\"24px\"viewBox=\"0 0 24 24\"\n",
              "       width=\"24px\">\n",
              "    <path d=\"M0 0h24v24H0V0z\" fill=\"none\"/>\n",
              "    <path d=\"M18.56 5.44l.94 2.06.94-2.06 2.06-.94-2.06-.94-.94-2.06-.94 2.06-2.06.94zm-11 1L8.5 8.5l.94-2.06 2.06-.94-2.06-.94L8.5 2.5l-.94 2.06-2.06.94zm10 10l.94 2.06.94-2.06 2.06-.94-2.06-.94-.94-2.06-.94 2.06-2.06.94z\"/><path d=\"M17.41 7.96l-1.37-1.37c-.4-.4-.92-.59-1.43-.59-.52 0-1.04.2-1.43.59L10.3 9.45l-7.72 7.72c-.78.78-.78 2.05 0 2.83L4 21.41c.39.39.9.59 1.41.59.51 0 1.02-.2 1.41-.59l7.78-7.78 2.81-2.81c.8-.78.8-2.07 0-2.86zM5.41 20L4 18.59l7.72-7.72 1.47 1.35L5.41 20z\"/>\n",
              "  </svg>\n",
              "      </button>\n",
              "\n",
              "\n",
              "\n",
              "    <div id=\"df-cfd0e803-495c-4b86-8fa1-3432f997c3d0\">\n",
              "      <button class=\"colab-df-quickchart\" onclick=\"quickchart('df-cfd0e803-495c-4b86-8fa1-3432f997c3d0')\"\n",
              "              title=\"Suggest charts.\"\n",
              "              style=\"display:none;\">\n",
              "\n",
              "<svg xmlns=\"http://www.w3.org/2000/svg\" height=\"24px\"viewBox=\"0 0 24 24\"\n",
              "     width=\"24px\">\n",
              "    <g>\n",
              "        <path d=\"M19 3H5c-1.1 0-2 .9-2 2v14c0 1.1.9 2 2 2h14c1.1 0 2-.9 2-2V5c0-1.1-.9-2-2-2zM9 17H7v-7h2v7zm4 0h-2V7h2v10zm4 0h-2v-4h2v4z\"/>\n",
              "    </g>\n",
              "</svg>\n",
              "      </button>\n",
              "    </div>\n",
              "\n",
              "<style>\n",
              "  .colab-df-quickchart {\n",
              "    background-color: #E8F0FE;\n",
              "    border: none;\n",
              "    border-radius: 50%;\n",
              "    cursor: pointer;\n",
              "    display: none;\n",
              "    fill: #1967D2;\n",
              "    height: 32px;\n",
              "    padding: 0 0 0 0;\n",
              "    width: 32px;\n",
              "  }\n",
              "\n",
              "  .colab-df-quickchart:hover {\n",
              "    background-color: #E2EBFA;\n",
              "    box-shadow: 0px 1px 2px rgba(60, 64, 67, 0.3), 0px 1px 3px 1px rgba(60, 64, 67, 0.15);\n",
              "    fill: #174EA6;\n",
              "  }\n",
              "\n",
              "  [theme=dark] .colab-df-quickchart {\n",
              "    background-color: #3B4455;\n",
              "    fill: #D2E3FC;\n",
              "  }\n",
              "\n",
              "  [theme=dark] .colab-df-quickchart:hover {\n",
              "    background-color: #434B5C;\n",
              "    box-shadow: 0px 1px 3px 1px rgba(0, 0, 0, 0.15);\n",
              "    filter: drop-shadow(0px 1px 2px rgba(0, 0, 0, 0.3));\n",
              "    fill: #FFFFFF;\n",
              "  }\n",
              "</style>\n",
              "\n",
              "    <script>\n",
              "      async function quickchart(key) {\n",
              "        const containerElement = document.querySelector('#' + key);\n",
              "        const charts = await google.colab.kernel.invokeFunction(\n",
              "            'suggestCharts', [key], {});\n",
              "      }\n",
              "    </script>\n",
              "\n",
              "      <script>\n",
              "\n",
              "function displayQuickchartButton(domScope) {\n",
              "  let quickchartButtonEl =\n",
              "    domScope.querySelector('#df-cfd0e803-495c-4b86-8fa1-3432f997c3d0 button.colab-df-quickchart');\n",
              "  quickchartButtonEl.style.display =\n",
              "    google.colab.kernel.accessAllowed ? 'block' : 'none';\n",
              "}\n",
              "\n",
              "        displayQuickchartButton(document);\n",
              "      </script>\n",
              "      <style>\n",
              "    .colab-df-container {\n",
              "      display:flex;\n",
              "      flex-wrap:wrap;\n",
              "      gap: 12px;\n",
              "    }\n",
              "\n",
              "    .colab-df-convert {\n",
              "      background-color: #E8F0FE;\n",
              "      border: none;\n",
              "      border-radius: 50%;\n",
              "      cursor: pointer;\n",
              "      display: none;\n",
              "      fill: #1967D2;\n",
              "      height: 32px;\n",
              "      padding: 0 0 0 0;\n",
              "      width: 32px;\n",
              "    }\n",
              "\n",
              "    .colab-df-convert:hover {\n",
              "      background-color: #E2EBFA;\n",
              "      box-shadow: 0px 1px 2px rgba(60, 64, 67, 0.3), 0px 1px 3px 1px rgba(60, 64, 67, 0.15);\n",
              "      fill: #174EA6;\n",
              "    }\n",
              "\n",
              "    [theme=dark] .colab-df-convert {\n",
              "      background-color: #3B4455;\n",
              "      fill: #D2E3FC;\n",
              "    }\n",
              "\n",
              "    [theme=dark] .colab-df-convert:hover {\n",
              "      background-color: #434B5C;\n",
              "      box-shadow: 0px 1px 3px 1px rgba(0, 0, 0, 0.15);\n",
              "      filter: drop-shadow(0px 1px 2px rgba(0, 0, 0, 0.3));\n",
              "      fill: #FFFFFF;\n",
              "    }\n",
              "  </style>\n",
              "\n",
              "      <script>\n",
              "        const buttonEl =\n",
              "          document.querySelector('#df-9afbea3d-a43e-4869-81ad-8b70fb0664f2 button.colab-df-convert');\n",
              "        buttonEl.style.display =\n",
              "          google.colab.kernel.accessAllowed ? 'block' : 'none';\n",
              "\n",
              "        async function convertToInteractive(key) {\n",
              "          const element = document.querySelector('#df-9afbea3d-a43e-4869-81ad-8b70fb0664f2');\n",
              "          const dataTable =\n",
              "            await google.colab.kernel.invokeFunction('convertToInteractive',\n",
              "                                                     [key], {});\n",
              "          if (!dataTable) return;\n",
              "\n",
              "          const docLinkHtml = 'Like what you see? Visit the ' +\n",
              "            '<a target=\"_blank\" href=https://colab.research.google.com/notebooks/data_table.ipynb>data table notebook</a>'\n",
              "            + ' to learn more about interactive tables.';\n",
              "          element.innerHTML = '';\n",
              "          dataTable['output_type'] = 'display_data';\n",
              "          await google.colab.output.renderOutput(dataTable, element);\n",
              "          const docLink = document.createElement('div');\n",
              "          docLink.innerHTML = docLinkHtml;\n",
              "          element.appendChild(docLink);\n",
              "        }\n",
              "      </script>\n",
              "    </div>\n",
              "  </div>\n"
            ]
          },
          "metadata": {},
          "execution_count": 433
        }
      ]
    },
    {
      "cell_type": "code",
      "source": [
        "env = gym.make('stocks-v0', df=df, frame_bound=(5, 100), window_size=5)\n",
        "env.signal_features"
      ],
      "metadata": {
        "id": "g02elbcPyX_Q",
        "colab": {
          "base_uri": "https://localhost:8080/"
        },
        "outputId": "78e9525c-4f11-4149-9cb3-a6f1c5921c1c"
      },
      "execution_count": 434,
      "outputs": [
        {
          "output_type": "stream",
          "name": "stderr",
          "text": [
            "/usr/local/lib/python3.10/dist-packages/ipykernel/ipkernel.py:283: DeprecationWarning: `should_run_async` will not call `transform_cell` automatically in the future. Please pass the result to `transformed_cell` argument and any exception that happen during thetransform in `preprocessing_exc_tuple` in IPython 7.17 and above.\n",
            "  and should_run_async(code)\n",
            "/usr/local/lib/python3.10/dist-packages/gym/utils/passive_env_checker.py:31: UserWarning: \u001b[33mWARN: A Box observation space has an unconventional shape (neither an image, nor a 1D vector). We recommend flattening the observation to have only a 1D vector or use a custom policy to properly process the data. Actual observation shape: (5, 2)\u001b[0m\n",
            "  logger.warn(\n",
            "/usr/local/lib/python3.10/dist-packages/gym/core.py:317: DeprecationWarning: \u001b[33mWARN: Initializing wrapper in old step API which returns one bool instead of two. It is recommended to set `new_step_api=True` to use new step API. This will be the default behaviour in future.\u001b[0m\n",
            "  deprecation(\n",
            "/usr/local/lib/python3.10/dist-packages/gym/wrappers/step_api_compatibility.py:39: DeprecationWarning: \u001b[33mWARN: Initializing environment in old step API which returns one bool instead of two. It is recommended to set `new_step_api=True` to use new step API. This will be the default behaviour in future.\u001b[0m\n",
            "  deprecation(\n"
          ]
        },
        {
          "output_type": "execute_result",
          "data": {
            "text/plain": [
              "array([[ 3.837e+01,  0.000e+00],\n",
              "       [ 3.578e+01, -2.590e+00],\n",
              "       [ 3.398e+01, -1.800e+00],\n",
              "       [ 3.243e+01, -1.550e+00],\n",
              "       [ 3.378e+01,  1.350e+00],\n",
              "       [ 3.384e+01,  6.000e-02],\n",
              "       [ 3.401e+01,  1.700e-01],\n",
              "       [ 3.478e+01,  7.700e-01],\n",
              "       [ 3.584e+01,  1.060e+00],\n",
              "       [ 3.793e+01,  2.090e+00],\n",
              "       [ 3.836e+01,  4.300e-01],\n",
              "       [ 4.002e+01,  1.660e+00],\n",
              "       [ 4.345e+01,  3.430e+00],\n",
              "       [ 4.037e+01, -3.080e+00],\n",
              "       [ 4.053e+01,  1.600e-01],\n",
              "       [ 3.945e+01, -1.080e+00],\n",
              "       [ 4.074e+01,  1.290e+00],\n",
              "       [ 3.968e+01, -1.060e+00],\n",
              "       [ 4.219e+01,  2.510e+00],\n",
              "       [ 4.052e+01, -1.670e+00],\n",
              "       [ 3.793e+01, -2.590e+00],\n",
              "       [ 3.649e+01, -1.440e+00],\n",
              "       [ 3.450e+01, -1.990e+00],\n",
              "       [ 3.353e+01, -9.700e-01],\n",
              "       [ 3.250e+01, -1.030e+00],\n",
              "       [ 3.196e+01, -5.400e-01],\n",
              "       [ 3.094e+01, -1.020e+00],\n",
              "       [ 3.155e+01,  6.100e-01],\n",
              "       [ 2.984e+01, -1.710e+00],\n",
              "       [ 2.864e+01, -1.200e+00],\n",
              "       [ 2.763e+01, -1.010e+00],\n",
              "       [ 2.736e+01, -2.700e-01],\n",
              "       [ 2.514e+01, -2.220e+00],\n",
              "       [ 2.404e+01, -1.100e+00],\n",
              "       [ 2.583e+01,  1.790e+00],\n",
              "       [ 2.892e+01,  3.090e+00],\n",
              "       [ 2.924e+01,  3.200e-01],\n",
              "       [ 2.785e+01, -1.390e+00],\n",
              "       [ 2.813e+01,  2.800e-01],\n",
              "       [ 2.861e+01,  4.800e-01],\n",
              "       [ 2.864e+01,  3.000e-02],\n",
              "       [ 2.896e+01,  3.200e-01],\n",
              "       [ 2.754e+01, -1.420e+00],\n",
              "       [ 2.686e+01, -6.800e-01],\n",
              "       [ 2.470e+01, -2.160e+00],\n",
              "       [ 2.504e+01,  3.400e-01],\n",
              "       [ 2.448e+01, -5.600e-01],\n",
              "       [ 2.613e+01,  1.650e+00],\n",
              "       [ 2.731e+01,  1.180e+00],\n",
              "       [ 2.546e+01, -1.850e+00],\n",
              "       [ 2.513e+01, -3.300e-01],\n",
              "       [ 2.538e+01,  2.500e-01],\n",
              "       [ 2.760e+01,  2.220e+00],\n",
              "       [ 2.639e+01, -1.210e+00],\n",
              "       [ 2.599e+01, -4.000e-01],\n",
              "       [ 2.535e+01, -6.400e-01],\n",
              "       [ 2.500e+01, -3.500e-01],\n",
              "       [ 2.527e+01,  2.700e-01],\n",
              "       [ 2.536e+01,  9.000e-02],\n",
              "       [ 2.556e+01,  2.000e-01],\n",
              "       [ 2.463e+01, -9.300e-01],\n",
              "       [ 2.596e+01,  1.330e+00],\n",
              "       [ 2.667e+01,  7.100e-01],\n",
              "       [ 2.454e+01, -2.130e+00],\n",
              "       [ 2.441e+01, -1.300e-01],\n",
              "       [ 2.530e+01,  8.900e-01],\n",
              "       [ 2.471e+01, -5.900e-01],\n",
              "       [ 2.687e+01,  2.160e+00],\n",
              "       [ 2.542e+01, -1.450e+00],\n",
              "       [ 2.593e+01,  5.100e-01],\n",
              "       [ 2.817e+01,  2.240e+00],\n",
              "       [ 2.831e+01,  1.400e-01],\n",
              "       [ 2.839e+01,  8.000e-02],\n",
              "       [ 2.662e+01, -1.770e+00],\n",
              "       [ 2.629e+01, -3.300e-01],\n",
              "       [ 2.651e+01,  2.200e-01],\n",
              "       [ 2.576e+01, -7.500e-01],\n",
              "       [ 2.514e+01, -6.200e-01],\n",
              "       [ 2.311e+01, -2.030e+00],\n",
              "       [ 2.488e+01,  1.770e+00],\n",
              "       [ 2.610e+01,  1.220e+00],\n",
              "       [ 2.605e+01, -5.000e-02],\n",
              "       [ 2.759e+01,  1.540e+00],\n",
              "       [ 2.714e+01, -4.500e-01],\n",
              "       [ 2.776e+01,  6.200e-01],\n",
              "       [ 2.760e+01, -1.600e-01],\n",
              "       [ 2.516e+01, -2.440e+00],\n",
              "       [ 2.630e+01,  1.140e+00],\n",
              "       [ 2.670e+01,  4.000e-01],\n",
              "       [ 2.617e+01, -5.300e-01],\n",
              "       [ 2.529e+01, -8.800e-01],\n",
              "       [ 2.560e+01,  3.100e-01],\n",
              "       [ 2.621e+01,  6.100e-01],\n",
              "       [ 2.660e+01,  3.900e-01],\n",
              "       [ 2.752e+01,  9.200e-01],\n",
              "       [ 2.556e+01, -1.960e+00],\n",
              "       [ 2.339e+01, -2.170e+00],\n",
              "       [ 2.226e+01, -1.130e+00],\n",
              "       [ 2.479e+01,  2.530e+00],\n",
              "       [ 2.263e+01, -2.160e+00]])"
            ]
          },
          "metadata": {},
          "execution_count": 434
        }
      ]
    },
    {
      "cell_type": "code",
      "source": [
        "#@title Build environment\n",
        "state = env.reset()\n",
        "while True:\n",
        "  action = env.action_space.sample()\n",
        "  n_state, reward, done, info = env.step(action)\n",
        "  if done:\n",
        "    print(\"info\", info)\n",
        "    break\n",
        "plt.figure(figsize=(13,6))\n",
        "plt.cla()\n",
        "env.render_all()\n",
        "plt.show()\n"
      ],
      "metadata": {
        "id": "kdVQ0uwM0PxM",
        "colab": {
          "base_uri": "https://localhost:8080/",
          "height": 758
        },
        "outputId": "0c44dbcc-1f10-4a00-fcc5-564178cd1b87"
      },
      "execution_count": 435,
      "outputs": [
        {
          "output_type": "stream",
          "name": "stderr",
          "text": [
            "/usr/local/lib/python3.10/dist-packages/gym/utils/passive_env_checker.py:174: UserWarning: \u001b[33mWARN: Future gym versions will require that `Env.reset` can be passed a `seed` instead of using `Env.seed` for resetting the environment random number generator.\u001b[0m\n",
            "  logger.warn(\n",
            "/usr/local/lib/python3.10/dist-packages/gym/utils/passive_env_checker.py:190: UserWarning: \u001b[33mWARN: Future gym versions will require that `Env.reset` can be passed `return_info` to return information from the environment resetting.\u001b[0m\n",
            "  logger.warn(\n",
            "/usr/local/lib/python3.10/dist-packages/gym/utils/passive_env_checker.py:195: UserWarning: \u001b[33mWARN: Future gym versions will require that `Env.reset` can be passed `options` to allow the environment initialisation to be passed additional information.\u001b[0m\n",
            "  logger.warn(\n",
            "/usr/local/lib/python3.10/dist-packages/gym/utils/passive_env_checker.py:227: DeprecationWarning: \u001b[33mWARN: Core environment is written in old step API which returns one bool instead of two. It is recommended to rewrite the environment with new step API. \u001b[0m\n",
            "  logger.deprecation(\n"
          ]
        },
        {
          "output_type": "stream",
          "name": "stdout",
          "text": [
            "info {'total_reward': -2.1900000000000013, 'total_profit': 0.6661154919182042, 'position': 0}\n"
          ]
        },
        {
          "output_type": "display_data",
          "data": {
            "text/plain": [
              "<Figure size 1300x600 with 1 Axes>"
            ],
            "image/png": "[encoded data removed]"
          },
          "metadata": {}
        }
      ]
    },
    {
      "cell_type": "code",
      "source": [
        "#@title Build Environment and train\n",
        "env_maker = lambda: gym.make('stocks-v0', df=df, frame_bound=(5, len(df)), window_size=5)\n",
        "env = DummyVecEnv([env_maker])"
      ],
      "metadata": {
        "id": "H8Di-mRy2Lmd",
        "colab": {
          "base_uri": "https://localhost:8080/"
        },
        "outputId": "bd4ea049-b1e5-44da-a175-25650da378fe"
      },
      "execution_count": 436,
      "outputs": [
        {
          "output_type": "stream",
          "name": "stderr",
          "text": [
            "/usr/local/lib/python3.10/dist-packages/stable_baselines3/common/vec_env/patch_gym.py:49: UserWarning: You provided an OpenAI Gym environment. We strongly recommend transitioning to Gymnasium environments. Stable-Baselines3 is automatically wrapping your environments in a compatibility layer, which could potentially cause issues.\n",
            "  warnings.warn(\n"
          ]
        }
      ]
    },
    {
      "cell_type": "code",
      "source": [
        "policy_kwargs = dict(activation_fn=th.nn.ReLU, net_arch=[64, 64])\n",
        "\n",
        "model = A2C(\"MlpPolicy\", env, policy_kwargs=policy_kwargs, verbose=1)\n",
        "model.learn(total_timesteps=1500)"
      ],
      "metadata": {
        "id": "TN_hLWBW2J1S",
        "colab": {
          "base_uri": "https://localhost:8080/"
        },
        "outputId": "fb2fd943-da95-4800-ef0b-9655d8dd27ee"
      },
      "execution_count": 437,
      "outputs": [
        {
          "output_type": "stream",
          "name": "stdout",
          "text": [
            "Using cpu device\n",
            "-------------------------------------\n",
            "| time/                 |           |\n",
            "|    fps                | 817       |\n",
            "|    iterations         | 100       |\n",
            "|    time_elapsed       | 0         |\n",
            "|    total_timesteps    | 500       |\n",
            "| train/                |           |\n",
            "|    entropy_loss       | -0.000917 |\n",
            "|    explained_variance | 0.527     |\n",
            "|    learning_rate      | 0.0007    |\n",
            "|    n_updates          | 99        |\n",
            "|    policy_loss        | -2.5e-05  |\n",
            "|    value_loss         | 0.029     |\n",
            "-------------------------------------\n",
            "-------------------------------------\n",
            "| time/                 |           |\n",
            "|    fps                | 813       |\n",
            "|    iterations         | 200       |\n",
            "|    time_elapsed       | 1         |\n",
            "|    total_timesteps    | 1000      |\n",
            "| train/                |           |\n",
            "|    entropy_loss       | -1.04e-05 |\n",
            "|    explained_variance | -0.681    |\n",
            "|    learning_rate      | 0.0007    |\n",
            "|    n_updates          | 199       |\n",
            "|    policy_loss        | 1.83e-08  |\n",
            "|    value_loss         | 0.00177   |\n",
            "-------------------------------------\n",
            "-------------------------------------\n",
            "| time/                 |           |\n",
            "|    fps                | 823       |\n",
            "|    iterations         | 300       |\n",
            "|    time_elapsed       | 1         |\n",
            "|    total_timesteps    | 1500      |\n",
            "| train/                |           |\n",
            "|    entropy_loss       | -6.65e-07 |\n",
            "|    explained_variance | -65.9     |\n",
            "|    learning_rate      | 0.0007    |\n",
            "|    n_updates          | 299       |\n",
            "|    policy_loss        | -0        |\n",
            "|    value_loss         | 0.00131   |\n",
            "-------------------------------------\n"
          ]
        },
        {
          "output_type": "execute_result",
          "data": {
            "text/plain": [
              "<stable_baselines3.a2c.a2c.A2C at 0x7a2fcc759a20>"
            ]
          },
          "metadata": {},
          "execution_count": 437
        }
      ]
    },
    {
      "cell_type": "code",
      "source": [
        "#@title Evaluation\n",
        "dff = pd.read_csv(\"data/btc.csv\")\n",
        "dff['Date'] = pd.to_datetime(dff['Date'])\n",
        "dff.set_index('Date', inplace=True)\n",
        "dff=dff.sort_index()\n",
        "dff.head()\n",
        "env = gym.make('stocks-v0', df=df, frame_bound=(110, 140), window_size=5)\n",
        "obs = env.reset()\n",
        "while True:\n",
        "    #From YT\n",
        "    obs = obs[np.newaxis, ...]\n",
        "    action, _states = model.predict(obs)\n",
        "    obs, rewards, done, info = env.step(action)\n",
        "    if done:\n",
        "        print(\"info\", info)\n",
        "        break\n",
        "\n",
        "plt.figure(figsize=(15,10))\n",
        "env.render_all()\n",
        "plt.cla\n",
        "plt.show()"
      ],
      "metadata": {
        "id": "DgurH6QENS8Y",
        "colab": {
          "base_uri": "https://localhost:8080/",
          "height": 1000
        },
        "outputId": "758575e8-d690-459b-d658-97079386bef6"
      },
      "execution_count": 438,
      "outputs": [
        {
          "output_type": "stream",
          "name": "stdout",
          "text": [
            "info {'total_reward': 0.0, 'total_profit': 1.1598523995535714, 'position': 1}\n"
          ]
        },
        {
          "output_type": "stream",
          "name": "stderr",
          "text": [
            "/usr/local/lib/python3.10/dist-packages/gym/utils/passive_env_checker.py:31: UserWarning: \u001b[33mWARN: A Box observation space has an unconventional shape (neither an image, nor a 1D vector). We recommend flattening the observation to have only a 1D vector or use a custom policy to properly process the data. Actual observation shape: (5, 2)\u001b[0m\n",
            "  logger.warn(\n",
            "/usr/local/lib/python3.10/dist-packages/gym/core.py:317: DeprecationWarning: \u001b[33mWARN: Initializing wrapper in old step API which returns one bool instead of two. It is recommended to set `new_step_api=True` to use new step API. This will be the default behaviour in future.\u001b[0m\n",
            "  deprecation(\n",
            "/usr/local/lib/python3.10/dist-packages/gym/wrappers/step_api_compatibility.py:39: DeprecationWarning: \u001b[33mWARN: Initializing environment in old step API which returns one bool instead of two. It is recommended to set `new_step_api=True` to use new step API. This will be the default behaviour in future.\u001b[0m\n",
            "  deprecation(\n",
            "/usr/local/lib/python3.10/dist-packages/gym/utils/passive_env_checker.py:174: UserWarning: \u001b[33mWARN: Future gym versions will require that `Env.reset` can be passed a `seed` instead of using `Env.seed` for resetting the environment random number generator.\u001b[0m\n",
            "  logger.warn(\n",
            "/usr/local/lib/python3.10/dist-packages/gym/utils/passive_env_checker.py:190: UserWarning: \u001b[33mWARN: Future gym versions will require that `Env.reset` can be passed `return_info` to return information from the environment resetting.\u001b[0m\n",
            "  logger.warn(\n",
            "/usr/local/lib/python3.10/dist-packages/gym/utils/passive_env_checker.py:195: UserWarning: \u001b[33mWARN: Future gym versions will require that `Env.reset` can be passed `options` to allow the environment initialisation to be passed additional information.\u001b[0m\n",
            "  logger.warn(\n",
            "/usr/local/lib/python3.10/dist-packages/gym/utils/passive_env_checker.py:227: DeprecationWarning: \u001b[33mWARN: Core environment is written in old step API which returns one bool instead of two. It is recommended to rewrite the environment with new step API. \u001b[0m\n",
            "  logger.deprecation(\n"
          ]
        },
        {
          "output_type": "display_data",
          "data": {
            "text/plain": [
              "<Figure size 1500x1000 with 1 Axes>"
            ],
            "image/png": "[encoded data removed]"
          },
          "metadata": {}
        }
      ]
    }
  ]
}